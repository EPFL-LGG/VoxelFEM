{
 "cells": [
  {
   "cell_type": "code",
   "execution_count": null,
   "metadata": {},
   "outputs": [],
   "source": [
    "from LayerByLayerOptimization import *\n",
    "import visualization\n",
    "import matplotlib"
   ]
  },
  {
   "cell_type": "markdown",
   "metadata": {},
   "source": [
    "## Set up the tensor product simulator"
   ]
  },
  {
   "cell_type": "code",
   "execution_count": null,
   "metadata": {},
   "outputs": [],
   "source": [
    "DIM=3\n",
    "\n",
    "BC_PATH = '../examples/bcs/3D/hump.bc'\n",
    "domainCorners = [[0, 0, 0], [2, 1, 1]]\n",
    "gridResolution = [64, 32, 32]\n",
    "\n",
    "tps = pyVoxelFEM.TensorProductSimulator([1] * DIM, domainCorners, gridResolution)\n",
    "tps.readMaterial('../examples/materials/B9Creator.material')\n",
    "tps.applyDisplacementsAndLoadsFromFile(BC_PATH)"
   ]
  },
  {
   "cell_type": "markdown",
   "metadata": {},
   "source": [
    "## Set up the main objective"
   ]
  },
  {
   "cell_type": "code",
   "execution_count": null,
   "metadata": {},
   "outputs": [],
   "source": [
    "numCoaseningLevels = optMGLevel(tps.NbElementsPerDimension, DIM) # Number of optimal coasening levels\n",
    "optObj = pyVoxelFEM.MultigridComplianceObjective(tps.multigridSolver(numCoaseningLevels))\n",
    "optObj.mgSmoothingIterations = 1\n",
    "optObj.tol = 1e-5"
   ]
  },
  {
   "cell_type": "markdown",
   "metadata": {},
   "source": [
    "## Set up the Layer-by-Layer objective"
   ]
  },
  {
   "cell_type": "code",
   "execution_count": null,
   "metadata": {},
   "outputs": [],
   "source": [
    "layObj = LayerByLayerObjective(tps, mg_levels=numCoaseningLevels, init_method='N=3')\n",
    "layObj.setCGTol(1e-5)\n",
    "layObj.zeroInit = False # if false, the full object simulation will use the result of its previous optimization"
   ]
  },
  {
   "cell_type": "markdown",
   "metadata": {},
   "source": [
    "## Define the Layer-by-Layer optimization problem"
   ]
  },
  {
   "cell_type": "code",
   "execution_count": null,
   "metadata": {},
   "outputs": [],
   "source": [
    "weight = 10\n",
    "maxVol = 0.1\n",
    "constraints = [pyVoxelFEM.TotalVolumeConstraint(maxVol)] # Volume constraint\n",
    "\n",
    "# Set up the chain of density filters\n",
    "filters = [pyVoxelFEM.SmoothingFilter(radius=2, type=pyVoxelFEM.SmoothingFilter.Type.Linear), pyVoxelFEM.ProjectionFilter(beta=5)] # Smoothing filter followed by projection\n",
    "\n",
    "LayerByLayerOptimizationProblem = getClass(eval(pyVoxelFEM.getClassName(tps, \"TopologyOptimizationProblem\")))\n",
    "\n",
    "top = LayerByLayerOptimizationProblem(tps, optObj, constraints, filters, layObj, float(weight))\n",
    "top.setVars(filters[-1].invert(maxVol) * np.ones(top.numVars()));"
   ]
  },
  {
   "cell_type": "markdown",
   "metadata": {},
   "source": [
    "# BC visualization"
   ]
  },
  {
   "cell_type": "code",
   "execution_count": null,
   "metadata": {},
   "outputs": [],
   "source": [
    "view = visualization.TPSViewer(tps)\n",
    "view.show()"
   ]
  },
  {
   "cell_type": "code",
   "execution_count": null,
   "metadata": {},
   "outputs": [],
   "source": [
    "# Hide the voxels below a given threshold\n",
    "view.densityThreshold = 0.5 # None t disable threshold"
   ]
  },
  {
   "cell_type": "code",
   "execution_count": null,
   "metadata": {
    "tags": []
   },
   "outputs": [],
   "source": [
    "max_iters=50\n",
    "optimizer = MMA(top, max_iters, callback = lambda *_: view.update())\n",
    "benchmark.reset()\n",
    "optimizer.run(top.getDensities(), showProgress=True)\n",
    "benchmark.report()"
   ]
  },
  {
   "cell_type": "code",
   "execution_count": null,
   "metadata": {},
   "outputs": [],
   "source": [
    "view.show()"
   ]
  },
  {
   "cell_type": "code",
   "execution_count": null,
   "metadata": {},
   "outputs": [],
   "source": [
    "# Change colormap\n",
    "view.densityColormap = matplotlib.cm.jet"
   ]
  }
 ],
 "metadata": {
  "kernelspec": {
   "display_name": "Python 3",
   "language": "python",
   "name": "python3"
  },
  "language_info": {
   "codemirror_mode": {
    "name": "ipython",
    "version": 3
   },
   "file_extension": ".py",
   "mimetype": "text/x-python",
   "name": "python",
   "nbconvert_exporter": "python",
   "pygments_lexer": "ipython3",
   "version": "3.9.10"
  },
  "vscode": {
   "interpreter": {
    "hash": "c6e4e9f98eb68ad3b7c296f83d20e6de614cb42e90992a65aa266555a3137d0d"
   }
  }
 },
 "nbformat": 4,
 "nbformat_minor": 4
}
