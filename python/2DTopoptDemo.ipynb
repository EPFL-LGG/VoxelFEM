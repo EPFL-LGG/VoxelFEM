{
 "cells": [
  {
   "cell_type": "code",
   "execution_count": null,
   "metadata": {},
   "outputs": [],
   "source": [
    "import pyVoxelFEM, MeshFEM, visualization, benchmark, parallelism\n",
    "import numpy as np\n",
    "import matplotlib, matplotlib.pyplot as plt\n",
    "from CoarseningLevelBenchmark import optMGLevel\n",
    "import sys, os, psutil\n",
    "\n",
    "parallelism.set_max_num_tbb_threads(psutil.cpu_count(logical=False))\n",
    "parallelism.set_gradient_assembly_num_threads(min(psutil.cpu_count(logical=False), 8))"
   ]
  },
  {
   "cell_type": "code",
   "execution_count": null,
   "metadata": {},
   "outputs": [],
   "source": [
    "DIM=2\n",
    "\n",
    "BC_PATH = '../examples/bcs/cantilever_flexion_SE.bc'\n",
    "domainCorners = [[0, 0], [2, 1]]\n",
    "gridResolution = [384, 192]\n",
    "\n",
    "maxVol = 0.33\n",
    "constraints = [pyVoxelFEM.TotalVolumeConstraint(maxVol)]\n",
    "\n",
    "# Set up the chain of density filters\n",
    "sf = pyVoxelFEM.SmoothingFilter(3)\n",
    "sf.type = sf.Type.Linear\n",
    "pf = pyVoxelFEM.ProjectionFilter(1)\n",
    "filters = [sf, pf] # Smoothing filter followed by projection\n",
    "\n",
    "tps = pyVoxelFEM.TensorProductSimulator([1] * DIM, domainCorners, gridResolution)\n",
    "tps.readMaterial('../examples/materials/B9Creator.material')\n",
    "tps.applyDisplacementsAndLoadsFromFile(BC_PATH)\n",
    "\n",
    "objective = pyVoxelFEM.MultigridComplianceObjective(tps.multigridSolver(optMGLevel(gridResolution, DIM)))\n",
    "top = pyVoxelFEM.TopologyOptimizationProblem(tps, objective, constraints, filters)\n",
    "top.setVars(pf.invert(maxVol) * np.ones(top.numVars()));"
   ]
  },
  {
   "cell_type": "markdown",
   "metadata": {},
   "source": [
    "# BC visualization"
   ]
  },
  {
   "cell_type": "code",
   "execution_count": null,
   "metadata": {},
   "outputs": [],
   "source": [
    "view = visualization.TPSViewer(tps)\n",
    "view.show()"
   ]
  },
  {
   "cell_type": "code",
   "execution_count": null,
   "metadata": {
    "jupyter": {
     "outputs_hidden": true
    },
    "tags": []
   },
   "outputs": [],
   "source": [
    "max_iters=50\n",
    "oco = pyVoxelFEM.OCOptimizer(top)\n",
    "benchmark.reset()\n",
    "for i in range(max_iters):\n",
    "    view.update()\n",
    "    oco.step()\n",
    "# Continue optimization with a steeper projection filter\n",
    "top.filterChain.filters[-1].beta = 8\n",
    "tps.gamma = 5\n",
    "for i in range(max_iters):\n",
    "    view.update()\n",
    "    oco.step()\n",
    "benchmark.report()"
   ]
  },
  {
   "cell_type": "code",
   "execution_count": null,
   "metadata": {},
   "outputs": [],
   "source": [
    "view.show()"
   ]
  },
  {
   "cell_type": "code",
   "execution_count": null,
   "metadata": {},
   "outputs": [],
   "source": [
    "# Change colormap\n",
    "view.densityColormap = matplotlib.cm.jet"
   ]
  },
  {
   "cell_type": "code",
   "execution_count": null,
   "metadata": {},
   "outputs": [],
   "source": [
    "# Hide the voxels below a given threshold\n",
    "view.densityThreshold = 0.5 "
   ]
  },
  {
   "cell_type": "code",
   "execution_count": null,
   "metadata": {},
   "outputs": [],
   "source": [
    "# Disable thresholding\n",
    "view.densityThreshold = None"
   ]
  },
  {
   "cell_type": "code",
   "execution_count": null,
   "metadata": {},
   "outputs": [],
   "source": [
    "# Animate the displacement field in the voxel-based viewer\n",
    "for t in np.linspace(0, 4 * np.pi, 200):\n",
    "    view.applyDisplacements(top.objective.u(), 0.001 * np.sin(t))"
   ]
  },
  {
   "cell_type": "code",
   "execution_count": null,
   "metadata": {},
   "outputs": [],
   "source": []
  }
 ],
 "metadata": {
  "kernelspec": {
   "display_name": "Python 3",
   "language": "python",
   "name": "python3"
  },
  "language_info": {
   "codemirror_mode": {
    "name": "ipython",
    "version": 3
   },
   "file_extension": ".py",
   "mimetype": "text/x-python",
   "name": "python",
   "nbconvert_exporter": "python",
   "pygments_lexer": "ipython3",
   "version": "3.9.10"
  },
  "vscode": {
   "interpreter": {
    "hash": "c6e4e9f98eb68ad3b7c296f83d20e6de614cb42e90992a65aa266555a3137d0d"
   }
  }
 },
 "nbformat": 4,
 "nbformat_minor": 4
}
